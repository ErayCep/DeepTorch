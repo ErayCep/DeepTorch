{
 "cells": [
  {
   "cell_type": "code",
   "execution_count": 1,
   "metadata": {},
   "outputs": [],
   "source": [
    "import numpy as np\n",
    "import torch\n",
    "import torch.nn as nn"
   ]
  },
  {
   "cell_type": "code",
   "execution_count": 2,
   "metadata": {},
   "outputs": [],
   "source": [
    "widenet = nn.Sequential(\n",
    "    nn.Linear(2,4),\n",
    "    nn.Linear(4,3),\n",
    ")\n",
    "\n",
    "deepnet = nn.Sequential(\n",
    "    nn.Linear(2,2),\n",
    "    nn.Linear(2,2),\n",
    "    nn.Linear(2,3),\n",
    ")"
   ]
  },
  {
   "cell_type": "code",
   "execution_count": 3,
   "metadata": {},
   "outputs": [
    {
     "name": "stdout",
     "output_type": "stream",
     "text": [
      "('0.weight', Parameter containing:\n",
      "tensor([[ 0.0350, -0.5845],\n",
      "        [-0.2342,  0.5880]], requires_grad=True))\n",
      " \n",
      "('0.bias', Parameter containing:\n",
      "tensor([-0.0731, -0.3818], requires_grad=True))\n",
      " \n",
      "('1.weight', Parameter containing:\n",
      "tensor([[-0.4917, -0.6416],\n",
      "        [ 0.6409,  0.6462]], requires_grad=True))\n",
      " \n",
      "('1.bias', Parameter containing:\n",
      "tensor([-0.4869, -0.3604], requires_grad=True))\n",
      " \n",
      "('2.weight', Parameter containing:\n",
      "tensor([[-0.0564, -0.4108],\n",
      "        [ 0.0069,  0.6331],\n",
      "        [ 0.6634,  0.4686]], requires_grad=True))\n",
      " \n",
      "('2.bias', Parameter containing:\n",
      "tensor([ 0.2547, -0.2732, -0.0397], requires_grad=True))\n",
      " \n"
     ]
    }
   ],
   "source": [
    "for p in deepnet.named_parameters():\n",
    "    print(p)\n",
    "    print(' ')"
   ]
  },
  {
   "cell_type": "code",
   "execution_count": 4,
   "metadata": {},
   "outputs": [
    {
     "name": "stdout",
     "output_type": "stream",
     "text": [
      "7\n",
      "7\n"
     ]
    }
   ],
   "source": [
    "numNodesInWide = 0\n",
    "for p in widenet.named_parameters():\n",
    "    if 'bias' in p[0]:\n",
    "        numNodesInWide += len(p[1])\n",
    "\n",
    "numNodesInDeep = 0\n",
    "for paramName, paramVect in deepnet.named_parameters():\n",
    "    if 'bias' in paramName:\n",
    "        numNodesInDeep += len(paramVect)\n",
    "\n",
    "print(numNodesInWide)\n",
    "print(numNodesInDeep)"
   ]
  },
  {
   "cell_type": "code",
   "execution_count": 5,
   "metadata": {},
   "outputs": [
    {
     "name": "stdout",
     "output_type": "stream",
     "text": [
      "This piece has 8 parameter.\n",
      "This piece has 4 parameter.\n",
      "This piece has 12 parameter.\n",
      "This piece has 3 parameter.\n",
      "\n",
      "\n",
      "Total of 27 parameters\n"
     ]
    }
   ],
   "source": [
    "nparams = 0\n",
    "for p in widenet.parameters():\n",
    "    if p.requires_grad:\n",
    "        print('This piece has %s parameter.' %p.numel())\n",
    "        nparams += p.numel()\n",
    "\n",
    "print('\\n\\nTotal of %s parameters' %nparams)"
   ]
  },
  {
   "cell_type": "code",
   "execution_count": 7,
   "metadata": {},
   "outputs": [
    {
     "name": "stdout",
     "output_type": "stream",
     "text": [
      "This piece has 4 parameters\n",
      "This piece has 2 parameters\n",
      "This piece has 4 parameters\n",
      "This piece has 2 parameters\n",
      "This piece has 6 parameters\n",
      "This piece has 3 parameters\n",
      "\n",
      "\n",
      "Total of 21 parameters\n"
     ]
    }
   ],
   "source": [
    "nparams = 0\n",
    "for p in deepnet.parameters():\n",
    "    if p.requires_grad:\n",
    "        print('This piece has %s parameters' %p.numel())\n",
    "        nparams += p.numel()\n",
    "\n",
    "print('\\n\\nTotal of %s parameters' %nparams)"
   ]
  },
  {
   "cell_type": "code",
   "execution_count": null,
   "metadata": {},
   "outputs": [],
   "source": []
  }
 ],
 "metadata": {
  "kernelspec": {
   "display_name": "Python 3.10.8 64-bit",
   "language": "python",
   "name": "python3"
  },
  "language_info": {
   "codemirror_mode": {
    "name": "ipython",
    "version": 3
   },
   "file_extension": ".py",
   "mimetype": "text/x-python",
   "name": "python",
   "nbconvert_exporter": "python",
   "pygments_lexer": "ipython3",
   "version": "3.10.8"
  },
  "orig_nbformat": 4,
  "vscode": {
   "interpreter": {
    "hash": "b0fa6594d8f4cbf19f97940f81e996739fb7646882a419484c72d19e05852a7e"
   }
  }
 },
 "nbformat": 4,
 "nbformat_minor": 2
}
