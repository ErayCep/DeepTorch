{
 "cells": [
  {
   "cell_type": "code",
   "execution_count": 1,
   "metadata": {},
   "outputs": [],
   "source": [
    "import torch\n",
    "import torch.nn as nn\n",
    "import torch.nn.functional as F"
   ]
  },
  {
   "cell_type": "code",
   "execution_count": 7,
   "metadata": {},
   "outputs": [
    {
     "name": "stdout",
     "output_type": "stream",
     "text": [
      "tensor([1., 1., 1., 1., 1., 1., 1., 1., 1., 1.])\n",
      "tensor([2., 2., 2., 0., 0., 2., 2., 0., 2., 2.])\n",
      "tensor([1., 1., 1., 0., 0., 1., 1., 0., 1., 1.])\n",
      "tensor(1.4000)\n"
     ]
    }
   ],
   "source": [
    "prob = 0.5\n",
    "\n",
    "dropout = nn.Dropout(p=prob)\n",
    "\n",
    "x = torch.ones(10)\n",
    "\n",
    "y = dropout(x)\n",
    "print(x)\n",
    "print(y)\n",
    "print(y*(1-prob))\n",
    "print(torch.mean(y))"
   ]
  },
  {
   "cell_type": "code",
   "execution_count": 8,
   "metadata": {},
   "outputs": [
    {
     "name": "stdout",
     "output_type": "stream",
     "text": [
      "tensor([1., 1., 1., 1., 1., 1., 1., 1., 1., 1.])\n",
      "tensor(1.)\n"
     ]
    }
   ],
   "source": [
    "dropout.eval()\n",
    "y = dropout(x)\n",
    "print(x)\n",
    "print(torch.mean(y))"
   ]
  },
  {
   "cell_type": "code",
   "execution_count": 9,
   "metadata": {},
   "outputs": [
    {
     "name": "stdout",
     "output_type": "stream",
     "text": [
      "tensor([0., 0., 2., 2., 2., 2., 2., 2., 2., 0.])\n",
      "tensor(1.4000)\n"
     ]
    }
   ],
   "source": [
    "dropout.eval()\n",
    "y = F.dropout(x)\n",
    "print(y)\n",
    "print(torch.mean(y))"
   ]
  },
  {
   "cell_type": "code",
   "execution_count": 10,
   "metadata": {},
   "outputs": [
    {
     "name": "stdout",
     "output_type": "stream",
     "text": [
      "tensor([1., 1., 1., 1., 1., 1., 1., 1., 1., 1.])\n",
      "tensor(1.)\n"
     ]
    }
   ],
   "source": [
    "y = F.dropout(x, training=False)\n",
    "print(y)\n",
    "print(torch.mean(y))"
   ]
  },
  {
   "cell_type": "code",
   "execution_count": 14,
   "metadata": {},
   "outputs": [
    {
     "name": "stdout",
     "output_type": "stream",
     "text": [
      "tensor([0., 0., 0., 2., 2., 0., 2., 0., 2., 2.])\n",
      "tensor([1., 1., 1., 1., 1., 1., 1., 1., 1., 1.])\n",
      "tensor([1., 1., 1., 1., 1., 1., 1., 1., 1., 1.])\n"
     ]
    }
   ],
   "source": [
    "dropout.train()\n",
    "y = dropout(x)\n",
    "print(y)\n",
    "\n",
    "dropout.eval()\n",
    "y = dropout(x)\n",
    "print(y)\n",
    "\n",
    "#dropout.train()\n",
    "y = dropout(x)\n",
    "print(y)"
   ]
  },
  {
   "cell_type": "code",
   "execution_count": 13,
   "metadata": {},
   "outputs": [
    {
     "name": "stdout",
     "output_type": "stream",
     "text": [
      "tensor([0., 2., 0., 2., 0., 0., 2., 0., 2., 0.])\n",
      "tensor([1., 1., 1., 1., 1., 1., 1., 1., 1., 1.])\n",
      "tensor([0., 2., 2., 2., 0., 2., 2., 0., 0., 2.])\n"
     ]
    }
   ],
   "source": [
    "dropout.train()\n",
    "y = dropout(x)\n",
    "print(y)\n",
    "\n",
    "dropout.eval()\n",
    "y = dropout(x)\n",
    "print(y)\n",
    "\n",
    "dropout.train()\n",
    "y = dropout(x)\n",
    "print(y)"
   ]
  },
  {
   "cell_type": "code",
   "execution_count": null,
   "metadata": {},
   "outputs": [],
   "source": []
  }
 ],
 "metadata": {
  "kernelspec": {
   "display_name": "Python 3.10.8 64-bit",
   "language": "python",
   "name": "python3"
  },
  "language_info": {
   "codemirror_mode": {
    "name": "ipython",
    "version": 3
   },
   "file_extension": ".py",
   "mimetype": "text/x-python",
   "name": "python",
   "nbconvert_exporter": "python",
   "pygments_lexer": "ipython3",
   "version": "3.10.8"
  },
  "orig_nbformat": 4,
  "vscode": {
   "interpreter": {
    "hash": "b0fa6594d8f4cbf19f97940f81e996739fb7646882a419484c72d19e05852a7e"
   }
  }
 },
 "nbformat": 4,
 "nbformat_minor": 2
}
